{
 "cells": [
  {
   "cell_type": "code",
   "execution_count": 1,
   "metadata": {},
   "outputs": [],
   "source": [
    "import math\n",
    "import numpy as np\n",
    "import openrtdynamics2.lang as dy\n",
    "import openrtdynamics2.targets as tg\n",
    "\n",
    "from vehicle_lib.vehicle_lib import *"
   ]
  },
  {
   "cell_type": "code",
   "execution_count": 2,
   "metadata": {},
   "outputs": [
    {
     "name": "stdout",
     "output_type": "stream",
     "text": [
      "propagating datatypes...\n",
      "compiling system simulation (level 0)... \n",
      "determining the computation order...\n",
      "building execution paths...\n",
      "All dependencies are resolved.\n",
      "Generated code will be written to generated/bicycle_open_loop_steering .\n",
      "Running compiler: emcc --bind -s MODULARIZE=1 -s EXPORT_NAME=\"ORTD_simulator\" generated/bicycle_open_loop_steering/main.cpp -g4 -s -o generated/bicycle_open_loop_steering/main.js\n",
      "Compilation result:  32512\n"
     ]
    }
   ],
   "source": [
    "\n",
    "#\n",
    "# Demo: a vehicle controlled to follow a given path\n",
    "#\n",
    "#       Implemented using the code generator openrtdynamics 2 - https://pypi.org/project/openrtdynamics2/ .\n",
    "#       This generates c++ code for Web Assembly to be run within the browser.\n",
    "#\n",
    "\n",
    "system = dy.enter_system()\n",
    "\n",
    "velocity               = dy.system_input( dy.DataTypeFloat64(1), name='velocity',              default_value=5.0,    value_range=[0, 25],     title=\"vehicle velocity [m/s]\")\n",
    "modulator              = dy.system_input( dy.DataTypeFloat64(1), name='modulator',             default_value=16.0,   value_range=[0, 100],    title=\"modulator\")\n",
    "time_scale             = dy.system_input( dy.DataTypeFloat64(1), name='time_scale',            default_value=5.0,    value_range=[0, 6.0],    title=\"time_scale\")\n",
    "initial_steering       = dy.system_input( dy.DataTypeFloat64(1), name='initial_steering',      default_value=-0.0,   value_range=[-40, 40],   title=\"initial steering angle [degrees]\")       * dy.float64(math.pi / 180.0)\n",
    "initial_orientation    = dy.system_input( dy.DataTypeFloat64(1), name='initial_orientation',   default_value=0.0,    value_range=[-360, 360], title=\"initial orientation angle [degrees]\")    * dy.float64(math.pi / 180.0)\n",
    "\n",
    "# parameters\n",
    "wheelbase = 3.0\n",
    "\n",
    "# sampling time\n",
    "Ts = 0.01\n",
    "\n",
    "# generate a seqeuence for the steering rate\n",
    "time_instance_indices =            [      50, 100, 150, 250, 300, 350, 400, 450, 500  ]\n",
    "values                = np.deg2rad([ 0, -1.0,   0, 1.0,  0, -1.0, 0,   0.2, -0.2, 0  ])\n",
    "\n",
    "steering_rate = dy.signal_step_wise_sequence( time_instance_indices, values, time_scale ) * modulator\n",
    "\n",
    "# linearly increasing steering angle\n",
    "delta = dy.euler_integrator( steering_rate, Ts, initial_state=initial_steering )\n",
    "delta = dy.saturate(u=delta, lower_limit=-math.pi/2.0, upper_limit=math.pi/2.0)\n",
    "\n",
    "# the model of the vehicle\n",
    "x, y, psi, x_dot, y_dot, psi_dot = discrete_time_bicycle_model(delta, velocity, Ts, wheelbase, psi0=initial_orientation)\n",
    "\n",
    "\n",
    "#\n",
    "# outputs: these are available for visualization in the html set-up\n",
    "#\n",
    "\n",
    "dy.append_output(x, 'x')\n",
    "dy.append_output(y, 'y')\n",
    "dy.append_output(psi, 'psi')\n",
    "dy.append_output(delta, 'steering')\n",
    "\n",
    "# generate code for Web Assembly (wasm), requires emcc (emscripten) to build\n",
    "code_gen_template = dy.TargetWasm()\n",
    "code_gen_results = dy.generate_code(template=code_gen_template, folder=\"generated/bicycle_open_loop_steering\", build=True)\n",
    "\n",
    "# sourcecode, manifest = dy.generate_code(template=dy.PutBasicRuntimeCpp(i_max=100), folder=\"generated/bicycle_open_loop_steering2\")\n",
    "\n",
    "algorithm_sourcecode = code_gen_template.get_algorithm_code()\n",
    "\n",
    "#\n",
    "dy.clear()\n"
   ]
  },
  {
   "cell_type": "code",
   "execution_count": 3,
   "metadata": {},
   "outputs": [
    {
     "data": {
      "text/html": [
       "\n",
       "        <iframe\n",
       "            width=\"100%\"\n",
       "            height=\"1000\"\n",
       "            src=\"../vehicle_control_tutorial/bicycle_open_loop_steering.html\"\n",
       "            frameborder=\"0\"\n",
       "            allowfullscreen\n",
       "        ></iframe>\n",
       "        "
      ],
      "text/plain": [
       "<IPython.lib.display.IFrame at 0x10dff0d90>"
      ]
     },
     "execution_count": 3,
     "metadata": {},
     "output_type": "execute_result"
    }
   ],
   "source": [
    "import IPython\n",
    "IPython.display.IFrame(src='../vehicle_control_tutorial/bicycle_open_loop_steering.html', width='100%', height=1000)"
   ]
  }
 ],
 "metadata": {
  "@webio": {
   "lastCommId": null,
   "lastKernelId": null
  },
  "kernelspec": {
   "display_name": "Python 3",
   "language": "python",
   "name": "python3"
  },
  "language_info": {
   "codemirror_mode": {
    "name": "ipython",
    "version": 3
   },
   "file_extension": ".py",
   "mimetype": "text/x-python",
   "name": "python",
   "nbconvert_exporter": "python",
   "pygments_lexer": "ipython3",
   "version": "3.8.5"
  }
 },
 "nbformat": 4,
 "nbformat_minor": 4
}
