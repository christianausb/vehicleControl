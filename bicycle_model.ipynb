{
 "cells": [
  {
   "cell_type": "code",
   "execution_count": 1,
   "metadata": {},
   "outputs": [],
   "source": [
    "import json\n",
    "import math\n",
    "import numpy as np\n",
    "import openrtdynamics2.lang as dy\n",
    "import openrtdynamics2.targets as tg\n",
    "\n",
    "from vehicle_lib.vehicle_lib import *"
   ]
  },
  {
   "cell_type": "code",
   "execution_count": 2,
   "metadata": {},
   "outputs": [],
   "source": [
    "# load track data\n",
    "with open(\"track_data/simple_track.json\", \"r\") as read_file:\n",
    "    track_data = json.load(read_file)\n"
   ]
  },
  {
   "cell_type": "code",
   "execution_count": 3,
   "metadata": {},
   "outputs": [
    {
     "name": "stdout",
     "output_type": "stream",
     "text": [
      "compiling system simulation (level 0)... \n",
      "Generated code will be written to generated/bicycle_model .\n",
      "writing file generated/bicycle_model/simulation_manifest.json\n",
      "writing file generated/bicycle_model/main.cpp\n",
      "Running compiler: emcc --bind -s MODULARIZE=1 -s EXPORT_NAME=\"ORTD_simulator\" generated/bicycle_model/main.cpp -O2 -s -o generated/bicycle_model/main.js\n",
      "Compilation result:  0\n"
     ]
    }
   ],
   "source": [
    "\n",
    "#\n",
    "# Demo: a vehicle controlled to follow a given path\n",
    "#\n",
    "#       Implemented using the code generator openrtdynamics 2 - https://pypi.org/project/openrtdynamics2/ .\n",
    "#       This generates c++ code for Web Assembly to be run within the browser.\n",
    "#\n",
    "\n",
    "system = dy.enter_system()\n",
    "\n",
    "velocity               = dy.system_input( dy.DataTypeFloat64(1), name='velocity',              default_value=25.0,   value_range=[0, 25],     title=\"vehicle velocity [m/s]\")\n",
    "steering_rate          = dy.system_input( dy.DataTypeFloat64(1), name='steering_rate',         default_value=1.0,    value_range=[-10, 10],   title=\"steering_rate [degrees/s]\")              * dy.float64(math.pi / 180.0)\n",
    "initial_steering       = dy.system_input( dy.DataTypeFloat64(1), name='initial_steering',      default_value=-10.0,  value_range=[-40, 40],   title=\"initial steering angle [degrees]\")       * dy.float64(math.pi / 180.0)\n",
    "initial_orientation    = dy.system_input( dy.DataTypeFloat64(1), name='initial_orientation',   default_value=0.0,    value_range=[-360, 360], title=\"initial orientation angle [degrees]\")    * dy.float64(math.pi / 180.0)\n",
    "\n",
    "# parameters\n",
    "wheelbase = 3.0\n",
    "\n",
    "# sampling time\n",
    "Ts = 0.01\n",
    "\n",
    "# create storage for the reference path:\n",
    "path = import_path_data(track_data)\n",
    "\n",
    "# linearly increasing steering angle\n",
    "delta = dy.euler_integrator( steering_rate, Ts, initial_state=initial_steering )\n",
    "delta = dy.saturate(u=delta, lower_limit=-math.pi/2.0, upper_limit=math.pi/2.0)\n",
    "\n",
    "# the model of the vehicle\n",
    "x, y, psi, x_dot, y_dot, psi_dot = discrete_time_bicycle_model(delta, velocity, Ts, wheelbase, psi0=initial_orientation)\n",
    "\n",
    "\n",
    "#\n",
    "# outputs: these are available for visualization in the html set-up\n",
    "#\n",
    "\n",
    "dy.append_output(x, 'x')\n",
    "dy.append_output(y, 'y')\n",
    "dy.append_output(psi, 'psi')\n",
    "dy.append_output(delta, 'steering')\n",
    "\n",
    "# generate code for Web Assembly (wasm), requires emcc (emscripten) to build\n",
    "code_gen_results = dy.generate_code(template=tg.TargetCppWASM(), folder=\"generated/bicycle_model\", build=True)\n",
    "\n",
    "#\n",
    "dy.clear()\n"
   ]
  },
  {
   "cell_type": "code",
   "execution_count": 4,
   "metadata": {},
   "outputs": [
    {
     "data": {
      "text/html": [
       "\n",
       "        <iframe\n",
       "            width=\"100%\"\n",
       "            height=\"1000\"\n",
       "            src=\"../vehicle_control_tutorial/bicycle_model.html\"\n",
       "            frameborder=\"0\"\n",
       "            allowfullscreen\n",
       "        ></iframe>\n",
       "        "
      ],
      "text/plain": [
       "<IPython.lib.display.IFrame at 0x7ff9dae9b4f0>"
      ]
     },
     "execution_count": 4,
     "metadata": {},
     "output_type": "execute_result"
    }
   ],
   "source": [
    "import IPython\n",
    "IPython.display.IFrame(src='../vehicle_control_tutorial/bicycle_model.html', width='100%', height=1000)"
   ]
  },
  {
   "cell_type": "code",
   "execution_count": null,
   "metadata": {},
   "outputs": [],
   "source": []
  }
 ],
 "metadata": {
  "kernelspec": {
   "display_name": "Python 3",
   "language": "python",
   "name": "python3"
  },
  "language_info": {
   "codemirror_mode": {
    "name": "ipython",
    "version": 3
   },
   "file_extension": ".py",
   "mimetype": "text/x-python",
   "name": "python",
   "nbconvert_exporter": "python",
   "pygments_lexer": "ipython3",
   "version": "3.8.5"
  }
 },
 "nbformat": 4,
 "nbformat_minor": 4
}
